{
 "cells": [
  {
   "cell_type": "markdown",
   "id": "c836eee0",
   "metadata": {},
   "source": [
    "<center><img src=\"https://btchekeli.github.io/src/My_logos/logo_principal_HB.png\" style=\"height:300px\"></center>\n",
    "<div class=\"alert alert-info\" role=\"alert\">\n",
    "  <center><h6 id=\"Python-pour-la-Data-Science\">La donnée est l’actif stratégique de la révolution numérique</h6></center>\n",
    "</div>\n",
    "\n",
    "<hr style=\"border-width:2px;border-color:#75DFC1\">\n",
    "    <center><h2>Comment générer un qr code basique avec une clé sécurisée en utilisant python ?</h2></center>\n",
    "<hr style=\"border-width:2px;border-color:#75DFC1\">"
   ]
  },
  {
   "cell_type": "code",
   "execution_count": 1,
   "id": "b14933b1",
   "metadata": {},
   "outputs": [
    {
     "data": {
      "image/png": "[encoded data removed]",
      "text/plain": [
       "<qrcode.image.pil.PilImage at 0x21a23b92430>"
      ]
     },
     "metadata": {},
     "output_type": "display_data"
    }
   ],
   "source": [
    "#!pip install qrcode\n",
    "import uuid\n",
    "import json\n",
    "import qrcode\n",
    "\n",
    "# Informations à encoder\n",
    "infos = {\n",
    "    \"nom\": \"Doe\",\n",
    "    \"prenom\": \"John\",\n",
    "    \"date_de_naissance\": \"06/01/1985\",\n",
    "    \"lieu_de_naissance\": \"Benin\",\n",
    "    \"Pere\" : \"Doe Brayan\",\n",
    "    \"Mere\" : \"Elisabeth Queen\",\n",
    "    \"uuid\": str(uuid.uuid4())  # Générer un UUID et le convertir en chaîne\n",
    "}\n",
    "\n",
    "# Convertir le dictionnaire en chaîne JSON\n",
    "data = json.dumps(infos)\n",
    "\n",
    "# Générer le QR Code\n",
    "img = qrcode.make(data)\n",
    "path = \"Chemin/vers/dossier/qrcode.png\"\n",
    "display(img)\n",
    "img.save(path)\n"
   ]
  },
  {
   "cell_type": "markdown",
   "id": "1dccce50",
   "metadata": {},
   "source": [
    "<blockquote style=\"border-left: 5px solid #686a91;\">\n",
    "    <p>L'UUID (Universally Unique Identifier) est une chaîne de caractères de 128 bits qui est garantie (dans la pratique) d'être unique, indépendamment de l'endroit où elle est générée.</p>\n",
    "    <p>Il permet d'ajouter une couche de sécurité supplémentaire en générant un identifiant unique (UUID) pour chaque QR Code</p>\n",
    "    <p>Cet identifiant peut ensuite être vérifié simplement dans une base de donnée propre au gouvernenement. si la clé existe, alors l'identifiant affichera \"Valide\" comme on pu le voir pendant la période de covid en France </p>\n",
    "</blocquote>"
   ]
  }
 ],
 "metadata": {
  "hide_input": false,
  "kernelspec": {
   "display_name": "Python 3 (ipykernel)",
   "language": "python",
   "name": "python3"
  },
  "language_info": {
   "codemirror_mode": {
    "name": "ipython",
    "version": 3
   },
   "file_extension": ".py",
   "mimetype": "text/x-python",
   "name": "python",
   "nbconvert_exporter": "python",
   "pygments_lexer": "ipython3",
   "version": "3.9.16"
  }
 },
 "nbformat": 4,
 "nbformat_minor": 5
}
